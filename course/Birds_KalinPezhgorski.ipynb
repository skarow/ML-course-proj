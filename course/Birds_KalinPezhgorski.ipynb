{
 "cells": [
  {
   "cell_type": "code",
   "execution_count": 4,
   "metadata": {},
   "outputs": [],
   "source": [
    "%matplotlib inline"
   ]
  },
  {
   "cell_type": "code",
   "execution_count": 5,
   "metadata": {},
   "outputs": [],
   "source": [
    "import numpy as np\n",
    "import pandas as pd\n",
    "import matplotlib.pyplot as plt\n",
    "\n",
    "from nose.tools import *\n",
    "\n",
    "from sklearn.linear_model import LogisticRegression\n",
    "from sklearn.preprocessing import PolynomialFeatures\n",
    "from sklearn.preprocessing import MinMaxScaler\n",
    "# Write your imports here"
   ]
  },
  {
   "cell_type": "code",
   "execution_count": 22,
   "metadata": {},
   "outputs": [],
   "source": [
    "np.random.seed(1234)"
   ]
  },
  {
   "cell_type": "markdown",
   "metadata": {},
   "source": [
    "**Read the data**"
   ]
  },
  {
   "cell_type": "code",
   "execution_count": 7,
   "metadata": {},
   "outputs": [],
   "source": [
    "birds_data = pd.read_csv(\"data/bird.csv\", dtype={\"id\": \"str\"})"
   ]
  },
  {
   "cell_type": "markdown",
   "metadata": {},
   "source": [
    "# Data cleanup"
   ]
  },
  {
   "cell_type": "markdown",
   "metadata": {},
   "source": [
    "## First we fill any missing values with average for the eko type"
   ]
  },
  {
   "cell_type": "code",
   "execution_count": 8,
   "metadata": {},
   "outputs": [
    {
     "data": {
      "text/html": [
       "<div>\n",
       "<style scoped>\n",
       "    .dataframe tbody tr th:only-of-type {\n",
       "        vertical-align: middle;\n",
       "    }\n",
       "\n",
       "    .dataframe tbody tr th {\n",
       "        vertical-align: top;\n",
       "    }\n",
       "\n",
       "    .dataframe thead th {\n",
       "        text-align: right;\n",
       "    }\n",
       "</style>\n",
       "<table border=\"1\" class=\"dataframe\">\n",
       "  <thead>\n",
       "    <tr style=\"text-align: right;\">\n",
       "      <th></th>\n",
       "      <th>id</th>\n",
       "      <th>huml</th>\n",
       "      <th>humw</th>\n",
       "      <th>ulnal</th>\n",
       "      <th>ulnaw</th>\n",
       "      <th>feml</th>\n",
       "      <th>femw</th>\n",
       "      <th>tibl</th>\n",
       "      <th>tibw</th>\n",
       "      <th>tarl</th>\n",
       "      <th>tarw</th>\n",
       "      <th>type</th>\n",
       "    </tr>\n",
       "  </thead>\n",
       "  <tbody>\n",
       "    <tr>\n",
       "      <th>160</th>\n",
       "      <td>160</td>\n",
       "      <td>76.43</td>\n",
       "      <td>4.11</td>\n",
       "      <td>86.79</td>\n",
       "      <td>3.84</td>\n",
       "      <td>NaN</td>\n",
       "      <td>NaN</td>\n",
       "      <td>67.13</td>\n",
       "      <td>2.48</td>\n",
       "      <td>41.65</td>\n",
       "      <td>2.10</td>\n",
       "      <td>W</td>\n",
       "    </tr>\n",
       "    <tr>\n",
       "      <th>204</th>\n",
       "      <td>204</td>\n",
       "      <td>63.76</td>\n",
       "      <td>4.74</td>\n",
       "      <td>NaN</td>\n",
       "      <td>NaN</td>\n",
       "      <td>57.33</td>\n",
       "      <td>4.88</td>\n",
       "      <td>75.67</td>\n",
       "      <td>4.33</td>\n",
       "      <td>60.19</td>\n",
       "      <td>3.82</td>\n",
       "      <td>R</td>\n",
       "    </tr>\n",
       "    <tr>\n",
       "      <th>207</th>\n",
       "      <td>207</td>\n",
       "      <td>98.08</td>\n",
       "      <td>7.77</td>\n",
       "      <td>113.04</td>\n",
       "      <td>5.76</td>\n",
       "      <td>82.04</td>\n",
       "      <td>7.17</td>\n",
       "      <td>107.47</td>\n",
       "      <td>6.65</td>\n",
       "      <td>NaN</td>\n",
       "      <td>NaN</td>\n",
       "      <td>R</td>\n",
       "    </tr>\n",
       "    <tr>\n",
       "      <th>342</th>\n",
       "      <td>342</td>\n",
       "      <td>NaN</td>\n",
       "      <td>NaN</td>\n",
       "      <td>NaN</td>\n",
       "      <td>NaN</td>\n",
       "      <td>32.54</td>\n",
       "      <td>2.65</td>\n",
       "      <td>55.06</td>\n",
       "      <td>2.81</td>\n",
       "      <td>38.94</td>\n",
       "      <td>2.25</td>\n",
       "      <td>SO</td>\n",
       "    </tr>\n",
       "    <tr>\n",
       "      <th>378</th>\n",
       "      <td>378</td>\n",
       "      <td>20.10</td>\n",
       "      <td>1.86</td>\n",
       "      <td>NaN</td>\n",
       "      <td>1.52</td>\n",
       "      <td>17.21</td>\n",
       "      <td>1.22</td>\n",
       "      <td>NaN</td>\n",
       "      <td>NaN</td>\n",
       "      <td>18.46</td>\n",
       "      <td>0.91</td>\n",
       "      <td>SO</td>\n",
       "    </tr>\n",
       "    <tr>\n",
       "      <th>396</th>\n",
       "      <td>396</td>\n",
       "      <td>16.51</td>\n",
       "      <td>1.47</td>\n",
       "      <td>20.56</td>\n",
       "      <td>1.43</td>\n",
       "      <td>15.88</td>\n",
       "      <td>1.27</td>\n",
       "      <td>NaN</td>\n",
       "      <td>1.19</td>\n",
       "      <td>17.63</td>\n",
       "      <td>1.02</td>\n",
       "      <td>SO</td>\n",
       "    </tr>\n",
       "    <tr>\n",
       "      <th>404</th>\n",
       "      <td>404</td>\n",
       "      <td>20.36</td>\n",
       "      <td>1.87</td>\n",
       "      <td>22.19</td>\n",
       "      <td>1.60</td>\n",
       "      <td>NaN</td>\n",
       "      <td>1.77</td>\n",
       "      <td>37.47</td>\n",
       "      <td>1.64</td>\n",
       "      <td>25.54</td>\n",
       "      <td>1.34</td>\n",
       "      <td>SO</td>\n",
       "    </tr>\n",
       "  </tbody>\n",
       "</table>\n",
       "</div>"
      ],
      "text/plain": [
       "      id   huml  humw   ulnal  ulnaw   feml  femw    tibl  tibw   tarl  tarw  \\\n",
       "160  160  76.43  4.11   86.79   3.84    NaN   NaN   67.13  2.48  41.65  2.10   \n",
       "204  204  63.76  4.74     NaN    NaN  57.33  4.88   75.67  4.33  60.19  3.82   \n",
       "207  207  98.08  7.77  113.04   5.76  82.04  7.17  107.47  6.65    NaN   NaN   \n",
       "342  342    NaN   NaN     NaN    NaN  32.54  2.65   55.06  2.81  38.94  2.25   \n",
       "378  378  20.10  1.86     NaN   1.52  17.21  1.22     NaN   NaN  18.46  0.91   \n",
       "396  396  16.51  1.47   20.56   1.43  15.88  1.27     NaN  1.19  17.63  1.02   \n",
       "404  404  20.36  1.87   22.19   1.60    NaN  1.77   37.47  1.64  25.54  1.34   \n",
       "\n",
       "    type  \n",
       "160    W  \n",
       "204    R  \n",
       "207    R  \n",
       "342   SO  \n",
       "378   SO  \n",
       "396   SO  \n",
       "404   SO  "
      ]
     },
     "execution_count": 8,
     "metadata": {},
     "output_type": "execute_result"
    }
   ],
   "source": [
    "birds_data[birds_data.isnull().any(axis=1)]"
   ]
  },
  {
   "cell_type": "markdown",
   "metadata": {},
   "source": [
    "### Cleanup of Singing birds ( SO )"
   ]
  },
  {
   "cell_type": "code",
   "execution_count": 9,
   "metadata": {},
   "outputs": [
    {
     "name": "stdout",
     "output_type": "stream",
     "text": [
      "Average SO (Singing Bird) Humerus Length: 22.361102362204733\n",
      "Average SO (Singing Bird) Humerus Width: 2.029763779527559\n",
      "Average SO (Singing Bird) Ulna Length: 26.39809523809524\n",
      "Average SO (Singing Bird) Ulna Width: 1.7438582677165362\n",
      "Average SO (Singing Bird) Femur Length: 21.38346456692914\n",
      "Average SO (Singing Bird) Tibiotarsus Length: 36.32603174603177\n",
      "Average SO (Singing Bird) Tibiotarsus Width: 1.5487401574803144\n"
     ]
    },
    {
     "data": {
      "text/html": [
       "<div>\n",
       "<style scoped>\n",
       "    .dataframe tbody tr th:only-of-type {\n",
       "        vertical-align: middle;\n",
       "    }\n",
       "\n",
       "    .dataframe tbody tr th {\n",
       "        vertical-align: top;\n",
       "    }\n",
       "\n",
       "    .dataframe thead th {\n",
       "        text-align: right;\n",
       "    }\n",
       "</style>\n",
       "<table border=\"1\" class=\"dataframe\">\n",
       "  <thead>\n",
       "    <tr style=\"text-align: right;\">\n",
       "      <th></th>\n",
       "      <th>id</th>\n",
       "      <th>huml</th>\n",
       "      <th>humw</th>\n",
       "      <th>ulnal</th>\n",
       "      <th>ulnaw</th>\n",
       "      <th>feml</th>\n",
       "      <th>femw</th>\n",
       "      <th>tibl</th>\n",
       "      <th>tibw</th>\n",
       "      <th>tarl</th>\n",
       "      <th>tarw</th>\n",
       "      <th>type</th>\n",
       "    </tr>\n",
       "  </thead>\n",
       "  <tbody>\n",
       "    <tr>\n",
       "      <th>160</th>\n",
       "      <td>160</td>\n",
       "      <td>76.43</td>\n",
       "      <td>4.11</td>\n",
       "      <td>86.79</td>\n",
       "      <td>3.84</td>\n",
       "      <td>NaN</td>\n",
       "      <td>NaN</td>\n",
       "      <td>67.13</td>\n",
       "      <td>2.48</td>\n",
       "      <td>41.65</td>\n",
       "      <td>2.10</td>\n",
       "      <td>W</td>\n",
       "    </tr>\n",
       "    <tr>\n",
       "      <th>204</th>\n",
       "      <td>204</td>\n",
       "      <td>63.76</td>\n",
       "      <td>4.74</td>\n",
       "      <td>NaN</td>\n",
       "      <td>NaN</td>\n",
       "      <td>57.33</td>\n",
       "      <td>4.88</td>\n",
       "      <td>75.67</td>\n",
       "      <td>4.33</td>\n",
       "      <td>60.19</td>\n",
       "      <td>3.82</td>\n",
       "      <td>R</td>\n",
       "    </tr>\n",
       "    <tr>\n",
       "      <th>207</th>\n",
       "      <td>207</td>\n",
       "      <td>98.08</td>\n",
       "      <td>7.77</td>\n",
       "      <td>113.04</td>\n",
       "      <td>5.76</td>\n",
       "      <td>82.04</td>\n",
       "      <td>7.17</td>\n",
       "      <td>107.47</td>\n",
       "      <td>6.65</td>\n",
       "      <td>NaN</td>\n",
       "      <td>NaN</td>\n",
       "      <td>R</td>\n",
       "    </tr>\n",
       "  </tbody>\n",
       "</table>\n",
       "</div>"
      ],
      "text/plain": [
       "      id   huml  humw   ulnal  ulnaw   feml  femw    tibl  tibw   tarl  tarw  \\\n",
       "160  160  76.43  4.11   86.79   3.84    NaN   NaN   67.13  2.48  41.65  2.10   \n",
       "204  204  63.76  4.74     NaN    NaN  57.33  4.88   75.67  4.33  60.19  3.82   \n",
       "207  207  98.08  7.77  113.04   5.76  82.04  7.17  107.47  6.65    NaN   NaN   \n",
       "\n",
       "    type  \n",
       "160    W  \n",
       "204    R  \n",
       "207    R  "
      ]
     },
     "execution_count": 9,
     "metadata": {},
     "output_type": "execute_result"
    }
   ],
   "source": [
    "# humerus Length ( huml)\n",
    "meanSO = np.mean(birds_data[birds_data.type == \"SO\"].huml)\n",
    "huml = birds_data[birds_data.type == \"SO\"].huml.fillna(meanSO)\n",
    "birds_data.loc[birds_data.type == \"SO\", \"huml\"] = huml\n",
    "print(\"Average SO (Singing Bird) Humerus Length:\", meanSO)\n",
    "\n",
    "# humerus Width ( humw)\n",
    "meanSO = np.mean(birds_data[birds_data.type == \"SO\"].humw)\n",
    "humw = birds_data[birds_data.type == \"SO\"].humw.fillna(meanSO)\n",
    "birds_data.loc[birds_data.type == \"SO\", \"humw\"] = humw\n",
    "print(\"Average SO (Singing Bird) Humerus Width:\", meanSO)\n",
    "\n",
    "\n",
    "# ulna length (ulnal)\n",
    "meanSO = np.mean(birds_data[birds_data.type == \"SO\"].ulnal)\n",
    "ulnal = birds_data[birds_data.type == \"SO\"].ulnal.fillna(meanSO)\n",
    "birds_data.loc[birds_data.type == \"SO\", \"ulnal\"] = ulnal\n",
    "print(\"Average SO (Singing Bird) Ulna Length:\",meanSO)\n",
    "\n",
    "# ulna Width ( ulnaw)\n",
    "meanSO = np.mean(birds_data[birds_data.type == \"SO\"].ulnaw)\n",
    "ulnaw = birds_data[birds_data.type == \"SO\"].ulnaw.fillna(meanSO)\n",
    "birds_data.loc[birds_data.type == \"SO\", \"ulnaw\"] = ulnaw\n",
    "print(\"Average SO (Singing Bird) Ulna Width:\", meanSO)\n",
    "\n",
    "# femur length (feml)\n",
    "meanSO = np.mean(birds_data[birds_data.type == \"SO\"].feml)\n",
    "feml = birds_data[birds_data.type == \"SO\"].feml.fillna(meanSO)\n",
    "birds_data.loc[birds_data.type == \"SO\", \"feml\"] = feml\n",
    "print(\"Average SO (Singing Bird) Femur Length:\",meanSO)\n",
    "\n",
    "# tibiotarsus length (tibl)\n",
    "meanSO = np.mean(birds_data[birds_data.type == \"SO\"].tibl)\n",
    "tibl = birds_data[birds_data.type == \"SO\"].tibl.fillna(meanSO)\n",
    "birds_data.loc[birds_data.type == \"SO\", \"tibl\"] = tibl\n",
    "print(\"Average SO (Singing Bird) Tibiotarsus Length:\",meanSO)\n",
    "\n",
    "# tibiotarsus Width (tibw)\n",
    "meanSO = np.mean(birds_data[birds_data.type == \"SO\"].tibw)\n",
    "tibw = birds_data[birds_data.type == \"SO\"].tibw.fillna(meanSO)\n",
    "birds_data.loc[birds_data.type == \"SO\", \"tibw\"] = tibw\n",
    "print(\"Average SO (Singing Bird) Tibiotarsus Width:\", meanSO)\n",
    "\n",
    "birds_data[birds_data.isnull().any(axis=1)]"
   ]
  },
  {
   "cell_type": "markdown",
   "metadata": {},
   "source": [
    "### Cleanup of Raptors ( R )"
   ]
  },
  {
   "cell_type": "code",
   "execution_count": 10,
   "metadata": {},
   "outputs": [
    {
     "name": "stdout",
     "output_type": "stream",
     "text": [
      "Average R (Raptors) Ulna Length: 100.34244897959184\n",
      "Average R (Raptors) Ulna Width: 4.813265306122449\n",
      "Average R (Raptors) Tarsometatarsus Length: 59.16632653061227\n",
      "Average R (Raptors) Tarsometatarsus Width: 5.073877551020407\n"
     ]
    },
    {
     "data": {
      "text/html": [
       "<div>\n",
       "<style scoped>\n",
       "    .dataframe tbody tr th:only-of-type {\n",
       "        vertical-align: middle;\n",
       "    }\n",
       "\n",
       "    .dataframe tbody tr th {\n",
       "        vertical-align: top;\n",
       "    }\n",
       "\n",
       "    .dataframe thead th {\n",
       "        text-align: right;\n",
       "    }\n",
       "</style>\n",
       "<table border=\"1\" class=\"dataframe\">\n",
       "  <thead>\n",
       "    <tr style=\"text-align: right;\">\n",
       "      <th></th>\n",
       "      <th>id</th>\n",
       "      <th>huml</th>\n",
       "      <th>humw</th>\n",
       "      <th>ulnal</th>\n",
       "      <th>ulnaw</th>\n",
       "      <th>feml</th>\n",
       "      <th>femw</th>\n",
       "      <th>tibl</th>\n",
       "      <th>tibw</th>\n",
       "      <th>tarl</th>\n",
       "      <th>tarw</th>\n",
       "      <th>type</th>\n",
       "    </tr>\n",
       "  </thead>\n",
       "  <tbody>\n",
       "    <tr>\n",
       "      <th>160</th>\n",
       "      <td>160</td>\n",
       "      <td>76.43</td>\n",
       "      <td>4.11</td>\n",
       "      <td>86.79</td>\n",
       "      <td>3.84</td>\n",
       "      <td>NaN</td>\n",
       "      <td>NaN</td>\n",
       "      <td>67.13</td>\n",
       "      <td>2.48</td>\n",
       "      <td>41.65</td>\n",
       "      <td>2.1</td>\n",
       "      <td>W</td>\n",
       "    </tr>\n",
       "  </tbody>\n",
       "</table>\n",
       "</div>"
      ],
      "text/plain": [
       "      id   huml  humw  ulnal  ulnaw  feml  femw   tibl  tibw   tarl  tarw type\n",
       "160  160  76.43  4.11  86.79   3.84   NaN   NaN  67.13  2.48  41.65   2.1    W"
      ]
     },
     "execution_count": 10,
     "metadata": {},
     "output_type": "execute_result"
    }
   ],
   "source": [
    "# ulna length (ulnal)\n",
    "meanSO = np.mean(birds_data[birds_data.type == \"R\"].ulnal)\n",
    "ulnal = birds_data[birds_data.type == \"R\"].ulnal.fillna(meanSO)\n",
    "birds_data.loc[birds_data.type == \"R\", \"ulnal\"] = ulnal\n",
    "print(\"Average R (Raptors) Ulna Length:\",meanSO)\n",
    "\n",
    "# ulna Width ( ulnaw)\n",
    "meanSO = np.mean(birds_data[birds_data.type == \"R\"].ulnaw)\n",
    "ulnaw = birds_data[birds_data.type == \"R\"].ulnaw.fillna(meanSO)\n",
    "birds_data.loc[birds_data.type == \"R\", \"ulnaw\"] = ulnaw\n",
    "print(\"Average R (Raptors) Ulna Width:\", meanSO)\n",
    "\n",
    "# tarsometatarsus length (tarl)\n",
    "meanSO = np.mean(birds_data[birds_data.type == \"R\"].tarl)\n",
    "tarl = birds_data[birds_data.type == \"R\"].tarl.fillna(meanSO)\n",
    "birds_data.loc[birds_data.type == \"R\", \"tarl\"] = tarl\n",
    "print(\"Average R (Raptors) Tarsometatarsus Length:\",meanSO)\n",
    "\n",
    "# tarsometatarsus Width ( tarw)\n",
    "meanSO = np.mean(birds_data[birds_data.type == \"R\"].tarw)\n",
    "tarw = birds_data[birds_data.type == \"R\"].tarw.fillna(meanSO)\n",
    "birds_data.loc[birds_data.type == \"R\", \"tarw\"] = tarw\n",
    "print(\"Average R (Raptors) Tarsometatarsus Width:\", meanSO)\n",
    "\n",
    "birds_data[birds_data.isnull().any(axis=1)]"
   ]
  },
  {
   "cell_type": "markdown",
   "metadata": {},
   "source": [
    "### Cleanup of Wading Birds ( W )"
   ]
  },
  {
   "cell_type": "code",
   "execution_count": 11,
   "metadata": {},
   "outputs": [
    {
     "name": "stdout",
     "output_type": "stream",
     "text": [
      "Average W (Wading Birds) Femur Length: 40.11953125000002\n",
      "Average W (Wading Birds) Femur Width: 3.1185937499999996\n"
     ]
    },
    {
     "data": {
      "text/html": [
       "<div>\n",
       "<style scoped>\n",
       "    .dataframe tbody tr th:only-of-type {\n",
       "        vertical-align: middle;\n",
       "    }\n",
       "\n",
       "    .dataframe tbody tr th {\n",
       "        vertical-align: top;\n",
       "    }\n",
       "\n",
       "    .dataframe thead th {\n",
       "        text-align: right;\n",
       "    }\n",
       "</style>\n",
       "<table border=\"1\" class=\"dataframe\">\n",
       "  <thead>\n",
       "    <tr style=\"text-align: right;\">\n",
       "      <th></th>\n",
       "      <th>id</th>\n",
       "      <th>huml</th>\n",
       "      <th>humw</th>\n",
       "      <th>ulnal</th>\n",
       "      <th>ulnaw</th>\n",
       "      <th>feml</th>\n",
       "      <th>femw</th>\n",
       "      <th>tibl</th>\n",
       "      <th>tibw</th>\n",
       "      <th>tarl</th>\n",
       "      <th>tarw</th>\n",
       "      <th>type</th>\n",
       "    </tr>\n",
       "  </thead>\n",
       "  <tbody>\n",
       "  </tbody>\n",
       "</table>\n",
       "</div>"
      ],
      "text/plain": [
       "Empty DataFrame\n",
       "Columns: [id, huml, humw, ulnal, ulnaw, feml, femw, tibl, tibw, tarl, tarw, type]\n",
       "Index: []"
      ]
     },
     "execution_count": 11,
     "metadata": {},
     "output_type": "execute_result"
    }
   ],
   "source": [
    "# femur length (feml)\n",
    "meanSO = np.mean(birds_data[birds_data.type == \"W\"].feml)\n",
    "feml = birds_data[birds_data.type == \"W\"].feml.fillna(meanSO)\n",
    "birds_data.loc[birds_data.type == \"W\", \"feml\"] = feml\n",
    "print(\"Average W (Wading Birds) Femur Length:\",meanSO)\n",
    "\n",
    "# femur width (femw)\n",
    "meanSO = np.mean(birds_data[birds_data.type == \"W\"].femw)\n",
    "femw = birds_data[birds_data.type == \"W\"].femw.fillna(meanSO)\n",
    "birds_data.loc[birds_data.type == \"W\", \"femw\"] = femw\n",
    "print(\"Average W (Wading Birds) Femur Width:\",meanSO)\n",
    "\n",
    "birds_data[birds_data.isnull().any(axis=1)]"
   ]
  },
  {
   "cell_type": "code",
   "execution_count": 12,
   "metadata": {},
   "outputs": [
    {
     "data": {
      "text/html": [
       "<div>\n",
       "<style scoped>\n",
       "    .dataframe tbody tr th:only-of-type {\n",
       "        vertical-align: middle;\n",
       "    }\n",
       "\n",
       "    .dataframe tbody tr th {\n",
       "        vertical-align: top;\n",
       "    }\n",
       "\n",
       "    .dataframe thead th {\n",
       "        text-align: right;\n",
       "    }\n",
       "</style>\n",
       "<table border=\"1\" class=\"dataframe\">\n",
       "  <thead>\n",
       "    <tr style=\"text-align: right;\">\n",
       "      <th></th>\n",
       "      <th>huml</th>\n",
       "      <th>humw</th>\n",
       "      <th>ulnal</th>\n",
       "      <th>ulnaw</th>\n",
       "      <th>feml</th>\n",
       "      <th>femw</th>\n",
       "      <th>tibl</th>\n",
       "      <th>tibw</th>\n",
       "      <th>tarl</th>\n",
       "      <th>tarw</th>\n",
       "    </tr>\n",
       "  </thead>\n",
       "  <tbody>\n",
       "    <tr>\n",
       "      <th>count</th>\n",
       "      <td>420.000000</td>\n",
       "      <td>420.000000</td>\n",
       "      <td>420.000000</td>\n",
       "      <td>420.000000</td>\n",
       "      <td>420.000000</td>\n",
       "      <td>420.000000</td>\n",
       "      <td>420.000000</td>\n",
       "      <td>420.000000</td>\n",
       "      <td>420.000000</td>\n",
       "      <td>420.000000</td>\n",
       "    </tr>\n",
       "    <tr>\n",
       "      <th>mean</th>\n",
       "      <td>64.549812</td>\n",
       "      <td>4.364999</td>\n",
       "      <td>68.986306</td>\n",
       "      <td>3.595731</td>\n",
       "      <td>36.843269</td>\n",
       "      <td>3.220640</td>\n",
       "      <td>64.527886</td>\n",
       "      <td>3.178449</td>\n",
       "      <td>39.277444</td>\n",
       "      <td>2.935128</td>\n",
       "    </tr>\n",
       "    <tr>\n",
       "      <th>std</th>\n",
       "      <td>53.809849</td>\n",
       "      <td>2.853495</td>\n",
       "      <td>58.667950</td>\n",
       "      <td>2.184208</td>\n",
       "      <td>19.946310</td>\n",
       "      <td>2.021171</td>\n",
       "      <td>37.798224</td>\n",
       "      <td>2.079871</td>\n",
       "      <td>23.177055</td>\n",
       "      <td>2.185568</td>\n",
       "    </tr>\n",
       "    <tr>\n",
       "      <th>min</th>\n",
       "      <td>9.850000</td>\n",
       "      <td>1.140000</td>\n",
       "      <td>14.090000</td>\n",
       "      <td>1.000000</td>\n",
       "      <td>11.830000</td>\n",
       "      <td>0.930000</td>\n",
       "      <td>5.500000</td>\n",
       "      <td>0.870000</td>\n",
       "      <td>7.770000</td>\n",
       "      <td>0.660000</td>\n",
       "    </tr>\n",
       "    <tr>\n",
       "      <th>25%</th>\n",
       "      <td>25.035000</td>\n",
       "      <td>2.187500</td>\n",
       "      <td>28.005000</td>\n",
       "      <td>1.867500</td>\n",
       "      <td>21.332500</td>\n",
       "      <td>1.717500</td>\n",
       "      <td>36.344008</td>\n",
       "      <td>1.560000</td>\n",
       "      <td>23.042500</td>\n",
       "      <td>1.427500</td>\n",
       "    </tr>\n",
       "    <tr>\n",
       "      <th>50%</th>\n",
       "      <td>44.075000</td>\n",
       "      <td>3.495000</td>\n",
       "      <td>43.505000</td>\n",
       "      <td>2.945000</td>\n",
       "      <td>31.130000</td>\n",
       "      <td>2.525000</td>\n",
       "      <td>51.940000</td>\n",
       "      <td>2.490000</td>\n",
       "      <td>31.810000</td>\n",
       "      <td>2.235000</td>\n",
       "    </tr>\n",
       "    <tr>\n",
       "      <th>75%</th>\n",
       "      <td>90.220000</td>\n",
       "      <td>5.805000</td>\n",
       "      <td>97.557500</td>\n",
       "      <td>4.772500</td>\n",
       "      <td>47.100000</td>\n",
       "      <td>4.122500</td>\n",
       "      <td>82.870000</td>\n",
       "      <td>4.252500</td>\n",
       "      <td>50.462500</td>\n",
       "      <td>3.522500</td>\n",
       "    </tr>\n",
       "    <tr>\n",
       "      <th>max</th>\n",
       "      <td>420.000000</td>\n",
       "      <td>17.840000</td>\n",
       "      <td>422.000000</td>\n",
       "      <td>12.000000</td>\n",
       "      <td>117.070000</td>\n",
       "      <td>11.640000</td>\n",
       "      <td>240.000000</td>\n",
       "      <td>11.030000</td>\n",
       "      <td>175.000000</td>\n",
       "      <td>14.090000</td>\n",
       "    </tr>\n",
       "  </tbody>\n",
       "</table>\n",
       "</div>"
      ],
      "text/plain": [
       "             huml        humw       ulnal       ulnaw        feml        femw  \\\n",
       "count  420.000000  420.000000  420.000000  420.000000  420.000000  420.000000   \n",
       "mean    64.549812    4.364999   68.986306    3.595731   36.843269    3.220640   \n",
       "std     53.809849    2.853495   58.667950    2.184208   19.946310    2.021171   \n",
       "min      9.850000    1.140000   14.090000    1.000000   11.830000    0.930000   \n",
       "25%     25.035000    2.187500   28.005000    1.867500   21.332500    1.717500   \n",
       "50%     44.075000    3.495000   43.505000    2.945000   31.130000    2.525000   \n",
       "75%     90.220000    5.805000   97.557500    4.772500   47.100000    4.122500   \n",
       "max    420.000000   17.840000  422.000000   12.000000  117.070000   11.640000   \n",
       "\n",
       "             tibl        tibw        tarl        tarw  \n",
       "count  420.000000  420.000000  420.000000  420.000000  \n",
       "mean    64.527886    3.178449   39.277444    2.935128  \n",
       "std     37.798224    2.079871   23.177055    2.185568  \n",
       "min      5.500000    0.870000    7.770000    0.660000  \n",
       "25%     36.344008    1.560000   23.042500    1.427500  \n",
       "50%     51.940000    2.490000   31.810000    2.235000  \n",
       "75%     82.870000    4.252500   50.462500    3.522500  \n",
       "max    240.000000   11.030000  175.000000   14.090000  "
      ]
     },
     "execution_count": 12,
     "metadata": {},
     "output_type": "execute_result"
    }
   ],
   "source": [
    "birds_data.describe()"
   ]
  },
  {
   "cell_type": "markdown",
   "metadata": {},
   "source": [
    "Check the number of specimens in each ecological group."
   ]
  },
  {
   "cell_type": "code",
   "execution_count": 13,
   "metadata": {},
   "outputs": [
    {
     "data": {
      "image/png": "[encoded data removed]",
      "text/plain": [
       "<Figure size 432x288 with 1 Axes>"
      ]
     },
     "metadata": {
      "needs_background": "light"
     },
     "output_type": "display_data"
    }
   ],
   "source": [
    "size_of_each_group = birds_data.groupby(\"type\").size().sort_values(ascending=False)\n",
    "\n",
    "ax = size_of_each_group.plot(\n",
    "    kind=\"bar\", \n",
    "    color=\"#00304e\",\n",
    "    figsize=((6, 4)),\n",
    "    rot=0\n",
    ")\n",
    "\n",
    "ax.set_title(\"Number of Specimens in Each Ecological Group\", fontsize=10)\n",
    "ax.set_xlabel(\"\")\n",
    "\n",
    "for x, y in zip(np.arange(0, len(size_of_each_group)), size_of_each_group):\n",
    "    ax.annotate(\"{:d}\".format(y), xy=(x-(0.14 if len(str(y)) == 3 else 0.1), y-6), fontsize=10, color=\"#eeeeee\")"
   ]
  },
  {
   "cell_type": "code",
   "execution_count": 14,
   "metadata": {},
   "outputs": [
    {
     "data": {
      "text/plain": [
       "<matplotlib.axes._subplots.AxesSubplot at 0x1f0c05b1160>"
      ]
     },
     "execution_count": 14,
     "metadata": {},
     "output_type": "execute_result"
    },
    {
     "data": {
      "image/png": "[encoded data removed]",
      "text/plain": [
       "<Figure size 432x288 with 1 Axes>"
      ]
     },
     "metadata": {
      "needs_background": "light"
     },
     "output_type": "display_data"
    }
   ],
   "source": [
    "birds_data = birds_data.drop('id', axis=1)\n",
    "pd.plotting.radviz(birds_data, 'type')"
   ]
  },
  {
   "cell_type": "code",
   "execution_count": 62,
   "metadata": {},
   "outputs": [
    {
     "data": {
      "image/png": "[encoded data removed]",
      "text/plain": [
       "<Figure size 432x288 with 1 Axes>"
      ]
     },
     "metadata": {
      "needs_background": "light"
     },
     "output_type": "display_data"
    }
   ],
   "source": [
    "ax = plt.gca()\n",
    "\n",
    "birds_data[birds_data.type == \"SW\"].plot(style=['o'], x=\"humw\", y=\"huml\", ax=ax)\n",
    "birds_data[birds_data.type == \"R\"].plot(style=['o'], x=\"humw\", y=\"huml\", ax=ax)\n",
    "\n",
    "plt.show()"
   ]
  },
  {
   "cell_type": "code",
   "execution_count": null,
   "metadata": {},
   "outputs": [],
   "source": []
  },
  {
   "cell_type": "code",
   "execution_count": null,
   "metadata": {},
   "outputs": [],
   "source": []
  }
 ],
 "metadata": {
  "kernelspec": {
   "display_name": "Python 3",
   "language": "python",
   "name": "python3"
  },
  "language_info": {
   "codemirror_mode": {
    "name": "ipython",
    "version": 3
   },
   "file_extension": ".py",
   "mimetype": "text/x-python",
   "name": "python",
   "nbconvert_exporter": "python",
   "pygments_lexer": "ipython3",
   "version": "3.7.3"
  }
 },
 "nbformat": 4,
 "nbformat_minor": 2
}
